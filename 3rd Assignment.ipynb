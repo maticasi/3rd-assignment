{
 "cells": [
  {
   "cell_type": "markdown",
   "metadata": {},
   "source": [
    "DNA Problem\n",
    "\n",
    "A string is simply an ordered collection of symbols selected from some alphabet and formed into a word; the length of a string is the number of symbols that it contains.\n",
    "\n",
    "An example of a length 21 DNA string (whose alphabet contains the symbols 'A', 'C', 'G', and 'T') is \"ATGCTTCAGAAAGGTCTTACG.\""
   ]
  },
  {
   "cell_type": "code",
   "execution_count": null,
   "metadata": {},
   "outputs": [],
   "source": [
    "DNA_string = ''\n",
    "\n",
    "a_count = DNA_string.count('A')\n",
    "c_count = DNA_string.count('C')\n",
    "g_count = DNA_string.count('G')\n",
    "t_count = DNA_string.count('T')\n",
    "    \n",
    "\n",
    "print(str(a_count) + ' ' + str(c_count) + ' ' + str(g_count) + ' ' + str(t_count))"
   ]
  },
  {
   "cell_type": "markdown",
   "metadata": {},
   "source": [
    "Transcription\n",
    "\n",
    "An RNA string is a string formed from the alphabet containing 'A', 'C', 'G', and 'U'.\n",
    "\n",
    "Given a DNA string t corresponding to a coding strand, its transcribed RNA string u is formed by replacing all occurrences of 'T' in t with 'U' in u."
   ]
  },
  {
   "cell_type": "code",
   "execution_count": null,
   "metadata": {},
   "outputs": [],
   "source": [
    "DNA_string = ''\n",
    "RNA_string= DNA_string.replace('T', 'U')\n",
    "\n",
    "print(RNA_string)"
   ]
  },
  {
   "cell_type": "markdown",
   "metadata": {},
   "source": [
    "Complementing a Strand of DNA\n",
    "\n",
    "In DNA strings, symbols 'A' and 'T' are complements of each other, as are 'C' and 'G'.\n",
    "\n",
    "The reverse complement of a DNA string s is the string sc formed by reversing the symbols of s, then taking the complement of each symbol (e.g., the reverse complement of \"GTCA\" is \"TGAC\")."
   ]
  },
  {
   "cell_type": "code",
   "execution_count": null,
   "metadata": {},
   "outputs": [],
   "source": [
    "DNA_string= ''\n",
    "\n",
    "complementary = DNA_string.replace('A','t').replace('T','a').replace('G','c').replace('C','g').upper()\n",
    "reverse = complementary[::-1]  \n",
    "\n",
    "print(reverse)"
   ]
  },
  {
   "cell_type": "markdown",
   "metadata": {},
   "source": [
    "Mendel's First Law\n",
    "\n",
    "Three positive integers k, m, and n, representing a population containing k+m+n organisms: k individuals are homozygous dominant for a factor, m are heterozygous, and n are homozygous recessive.\n",
    "\n",
    "Return the probability that two randomly selected mating organisms will produce an individual possessing a dominant allele (and thus displaying the dominant phenotype). Assume that any two organisms can mate."
   ]
  },
  {
   "cell_type": "code",
   "execution_count": null,
   "metadata": {},
   "outputs": [],
   "source": [
    "k = 0                                                       \n",
    "m = 0                                                  \n",
    "n = 0 \n",
    "\n",
    "total = k + m + n  \n",
    "\n",
    "probability = (4*(k*(k-1)+2*k*m+2*k*n+m*n)+3*m*(m-1))/(4*total*(total-1))\n",
    "\n",
    "print(probability) "
   ]
  },
  {
   "cell_type": "markdown",
   "metadata": {},
   "source": [
    "Computing GC Content\n",
    "\n",
    "The GC-content of a DNA string is given by the percentage of symbols in the string that are 'C' or 'G'. For example, the GC-content of \"AGCTATAG\" is 37.5%. Note that the reverse complement of any DNA string has the same GC-content.\n",
    "\n",
    "DNA strings must be labeled when they are consolidated into a database. A commonly used method of string labeling is called FASTA format. In this format, the string is introduced by a line that begins with '>', followed by some labeling information. Subsequent lines contain the string itself; the first line to begin with '>' indicates the label of the next string.\n",
    "\n",
    "In Rosalind's implementation, a string in FASTA format will be labeled by the ID \"Rosalind_xxxx\", where \"xxxx\" denotes a four-digit code between 0000 and 9999."
   ]
  },
  {
   "cell_type": "code",
   "execution_count": null,
   "metadata": {},
   "outputs": [],
   "source": [
    "from __future__ import division\n",
    "\n",
    "sfasta = open('rosalind_gc.txt', 'r').read()\n",
    "\n",
    "max_gc = 0.0\n",
    "\n",
    "with open('rosalind_gc.txt') as f:\n",
    "    content = f.readlines()\n",
    "    for i, line in enumerate(content):\n",
    "        if line.startswith('>'):\n",
    "            id = line[1:]\n",
    "            # reset sequence string\n",
    "            seq = ''\n",
    "        else:\n",
    "            newseq = line.strip()\n",
    "            seq = seq + newseq\n",
    "            # print if last substring or if next substring starts with '>'\n",
    "            if i==len(content)-1 or content[i+1].startswith('>'):\n",
    "                gc = 100 * (seq.count('G') + seq.count('C')) / len(seq)\n",
    "                if gc > max_gc:\n",
    "                    max_gc = gc\n",
    "                    max_id = id\n",
    "\n",
    "print(max_id, end='')\n",
    "print(max_gc)\n"
   ]
  },
  {
   "cell_type": "markdown",
   "metadata": {},
   "source": [
    "Finding a Motif in Dna\n",
    "Given two strings s and t, t is a substring of s if t is contained as a contiguous collection of symbols in s (as a result, t must be no longer than s).\n",
    "\n",
    "The position of a symbol in a string is the total number of symbols found to its left, including itself (e.g., the positions of all occurrences of 'U' in \"AUGCUUCAGAAAGGUCUUACG\" are 2, 5, 6, 15, 17, and 18). The symbol at position i of s is denoted by s[i].\n",
    "\n",
    "A substring of s can be represented as s[j:k], where j and k represent the starting and ending positions of the substring in s; for example, if s = \"AUGCUUCAGAAAGGUCUUACG\", then s[2:5] = \"UGCU\".\n",
    "\n",
    "The location of a substring s[j:k] is its beginning position j; note that t will have multiple locations in s if it occurs more than once as a substring of s (see the Sample below)."
   ]
  },
  {
   "cell_type": "code",
   "execution_count": null,
   "metadata": {},
   "outputs": [],
   "source": [
    "def find_motif(s,t):\n",
    "    positions = ''\n",
    "    for i in range(len(s)):\n",
    "        if s[i] == t[0]:\n",
    "            if s[i:i+len(t)] == t:\n",
    "                positions += str(i+1)+' '\n",
    "    return positions\n",
    "\n",
    "\n",
    "with open('rosalind_subs.txt','r') as file:\n",
    "    content = file.read()\n",
    "DNA, subDNA = content.splitlines()\n",
    "print(find_motif(DNA, subDNA))"
   ]
  },
  {
   "cell_type": "markdown",
   "metadata": {},
   "source": [
    "Mendel's second law\n",
    "\n",
    "Two events A and B are independent if Pr(A and B) is equal to Pr(A)×Pr(B). In other words, the events do not influence each other, so that we may simply calculate each of the individual probabilities separately and then multiply.\n",
    "\n",
    "More generally, random variables X and Y are independent if whenever A and B are respective events for X and Y, A and B are independent (i.e., Pr(A and B)=Pr(A)×Pr(B)).\n",
    "\n",
    "As an example of how helpful independence can be for calculating probabilities, let X and Y represent the numbers showing on two six-sided dice. Intuitively, the number of pips showing on one die should not affect the number showing on the other die. If we want to find the probability that X+Y is odd, then we don't need to draw a tree diagram and consider all possibilities. We simply first note that for X+Y to be odd, either X is even and Y is odd or X is odd and Y is even. In terms of probability, Pr(X+Y is odd)=Pr(X is even and Y is odd)+Pr(X is odd and Y is even). Using independence, this becomes [Pr(X is even)×Pr(Y is odd)]+[Pr(X is odd)×Pr(Y is even)], or (12)2+(12)2=12. You can verify this result in Figure 2, which shows all 36 outcomes for rolling two dice.\n",
    "\n",
    "Given: Two positive integers k (k≤7) and N (N≤2k). In this problem, we begin with Tom, who in the 0th generation has genotype Aa Bb. Tom has two children in the 1st generation, each of whom has two children, and so on. Each organism always mates with an organism having genotype Aa Bb.\n",
    "\n",
    "Return: The probability that at least N Aa Bb organisms will belong to the k-th generation of Tom's family tree (don't count the Aa Bb mates at each level). Assume that Mendel's second law holds for the factors."
   ]
  },
  {
   "cell_type": "code",
   "execution_count": null,
   "metadata": {},
   "outputs": [],
   "source": [
    "from itertools import combinations\n",
    "from functools import reduce\n",
    "from math import factorial\n",
    "\n",
    "with open('rosalind_lia.txt') as f:\n",
    "    data= list(map(lambda x: int(x), f.read().strip().split(' ')))\n",
    "\n",
    "def combi(n, r):\n",
    "    return int(factorial(n) / factorial(r) / factorial(n - r))\n",
    "\n",
    "AaBb_prob= 0.25\n",
    "total = 2 ** data[0]\n",
    "result = reduce(lambda a, b: a+b, map(lambda x: combi(total, x) * AaBb_prob ** x * (1 - AaBb_prob) ** (total - x), range(data[1], total+1)))\n",
    "print(result)\n"
   ]
  },
  {
   "cell_type": "markdown",
   "metadata": {},
   "source": [
    "Calculating expected offspring\n",
    "\n",
    "For a random variable X taking integer values between 1 and n, the expected value of X is E(X)=∑nk=1k×Pr(X=k). The expected value offers us a way of taking the long-term average of a random variable over a large number of trials.\n",
    "\n",
    "As a motivating example, let X be the number on a six-sided die. Over a large number of rolls, we should expect to obtain an average of 3.5 on the die (even though it's not possible to roll a 3.5). The formula for expected value confirms that E(X)=∑6k=1k×Pr(X=k)=3.5.\n",
    "\n",
    "More generally, a random variable for which every one of a number of equally spaced outcomes has the same probability is called a uniform random variable (in the die example, this \"equal spacing\" is equal to 1). We can generalize our die example to find that if X is a uniform random variable with minimum possible value a and maximum possible value b, then E(X)=a+b2. You may also wish to verify that for the dice example, if Y is the random variable associated with the outcome of a second die roll, then E(X+Y)=7."
   ]
  },
  {
   "cell_type": "code",
   "execution_count": null,
   "metadata": {},
   "outputs": [],
   "source": [
    "\n",
    "AAAA = 17253 \n",
    "AAAa = 19527 \n",
    "AAaa = 17926\n",
    "AaAa = 19025\n",
    "Aaaa = 16072\n",
    "aaaa = 18471\n",
    "\n",
    "E1, E2, E3 = 2, 2, 2                                  \n",
    "E4 = 2 * 0.75                                         \n",
    "E5 = 2 * 0.5                                          \n",
    "E = E1 * AAAA + E2 * AAAa + E3 * AAaa + E4 * AaAa + E5 * aaaa   \n",
    "print(E)                                              \n"
   ]
  },
  {
   "cell_type": "markdown",
   "metadata": {},
   "source": [
    "Consensus and profile\n",
    "A matrix is a rectangular table of values divided into rows and columns. An m×n matrix has m rows and n columns. Given a matrix A, we write Ai,j to indicate the value found at the intersection of row i and column j.\n",
    "\n",
    "Say that we have a collection of DNA strings, all having the same length n. Their profile matrix is a 4×n matrix P in which P1,j represents the number of times that 'A' occurs in the jth position of one of the strings, P2,j represents the number of times that C occurs in the jth position, and so on (see below).\n",
    "\n",
    "A consensus string c is a string of length n formed from our collection by taking the most common symbol at each position; the jth symbol of c therefore corresponds to the symbol having the maximum value in the j-th column of the profile matrix. Of course, there may be more than one most common symbol, leading to multiple possible consensus strings."
   ]
  },
  {
   "cell_type": "code",
   "execution_count": null,
   "metadata": {},
   "outputs": [],
   "source": [
    "from Bio import SeqIO\n",
    "from collections import Counter\n",
    "import pandas as pd\n",
    "\n",
    "lst = []\n",
    "for x in SeqIO.parse('rosalind_cons.txt', 'fasta'):\n",
    "    lst.append(x.seq)\n",
    "\n",
    "lst_cnt = []\n",
    "for pos in range(len(lst[0])):\n",
    "    new_lst = []\n",
    "    for seq in lst:\n",
    "        new_lst.append(seq[pos])\n",
    "        \n",
    "    lst_cnt.append(Counter(new_lst))\n",
    "\n",
    "for pos in range(len(lst_cnt)):\n",
    "    print(lst_cnt[pos].most_common()[0][0], end='')\n",
    "\n",
    "print()\n",
    "\n",
    "dft = pd.DataFrame(lst_cnt, columns=['A', 'C', 'G', 'T']).fillna(0).T\n",
    "for symbol in ['A', 'C', 'G', 'T']:\n",
    "    print(symbol, end=': ')\n",
    "    dft.loc[symbol].apply(lambda row: print(int(row), end=' '))\n",
    "    print()"
   ]
  },
  {
   "cell_type": "markdown",
   "metadata": {},
   "source": [
    "Introduction to random string\n",
    "\n",
    "An array is a structure containing an ordered collection of objects (numbers, strings, other arrays, etc.). We let A[k] denote the k-th value in array A. You may like to think of an array as simply a matrix having only one row.\n",
    "\n",
    "A random string is constructed so that the probability of choosing each subsequent symbol is based on a fixed underlying symbol frequency.\n",
    "\n",
    "GC-content offers us natural symbol frequencies for constructing random DNA strings. If the GC-content is x, then we set the symbol frequencies of C and G equal to x2 and the symbol frequencies of A and T equal to 1−x2. For example, if the GC-content is 40%, then as we construct the string, the next symbol is 'G'/'C' with probability 0.2, and the next symbol is 'A'/'T' with probability 0.3.\n",
    "\n",
    "In practice, many probabilities wind up being very small. In order to work with small probabilities, we may plug them into a function that \"blows them up\" for the sake of comparison. Specifically, the common logarithm of x (defined for x>0 and denoted log10(x)) is the exponent to which we must raise 10 to obtain x.\n",
    "\n",
    "See Figure 1 for a graph of the common logarithm function y=log10(x). In this graph, we can see that the logarithm of x-values between 0 and 1 always winds up mapping to y-values between −∞ and 0: x-values near 0 have logarithms close to −∞, and x-values close to 1 have logarithms close to 0. Thus, we will select the common logarithm as our function to \"blow up\" small probability values for compariso"
   ]
  },
  {
   "cell_type": "code",
   "execution_count": null,
   "metadata": {},
   "outputs": [],
   "source": [
    "import math\n",
    "\n",
    "dataset = \"ACGATACAA\"\n",
    "number_line = \"0.129 0.287 0.423 0.476 0.641 0.742 0.783\"\n",
    "gcc = [float(i) for i in number_line.split()]\n",
    "\n",
    "\n",
    "outputs = []\n",
    "prob = 0\n",
    "for a_gcc in gcc:\n",
    "    prob = 0\n",
    "    chances = {\n",
    "        'A' : (1-a_gcc)/2,\n",
    "        'C' : a_gcc/2,\n",
    "        'G' : a_gcc/2,\n",
    "        'T' : (1-a_gcc)/2\n",
    "    }\n",
    "    for c in dataset:\n",
    "        prob = prob + math.log10(chances[c])\n",
    "    outputs.append(prob)\n",
    "\n",
    "print(\" \".join([str(i) for i in outputs]))"
   ]
  }
 ],
 "metadata": {
  "kernelspec": {
   "display_name": "Python 3.10.0 64-bit",
   "language": "python",
   "name": "python3"
  },
  "language_info": {
   "codemirror_mode": {
    "name": "ipython",
    "version": 3
   },
   "file_extension": ".py",
   "mimetype": "text/x-python",
   "name": "python",
   "nbconvert_exporter": "python",
   "pygments_lexer": "ipython3",
   "version": "3.10.0"
  },
  "orig_nbformat": 4,
  "vscode": {
   "interpreter": {
    "hash": "aee8b7b246df8f9039afb4144a1f6fd8d2ca17a180786b69acc140d282b71a49"
   }
  }
 },
 "nbformat": 4,
 "nbformat_minor": 2
}
